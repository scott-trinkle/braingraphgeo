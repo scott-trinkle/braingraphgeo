{
 "cells": [
  {
   "cell_type": "markdown",
   "metadata": {},
   "source": [
    "# Intro\n",
    "\n",
    "In this example we use geometric surrogate graphs from `braingraphgeo` to demonstrate hub node visualizations that show geometric bias in tractography.\n",
    "\n",
    "We start by importing some base packages:"
   ]
  },
  {
   "cell_type": "code",
   "execution_count": 1,
   "metadata": {},
   "outputs": [],
   "source": [
    "import numpy as np\n",
    "import pandas as pd\n",
    "from braingraphgeo.utils import load_connectivity_matrix"
   ]
  },
  {
   "cell_type": "markdown",
   "metadata": {},
   "source": [
    "The goal is to create a network diagram in physical coordinates showing connections between a fixed number of the strongest \"hub\" nodes in a given graph. Visual comparisons between empirical and geometric graphs will give us a clue into the role that geometry plays in determining network structure from each modality. \n",
    "\n",
    "# Load data \n",
    "\n",
    "First, let's load our data:"
   ]
  },
  {
   "cell_type": "code",
   "execution_count": 2,
   "metadata": {},
   "outputs": [],
   "source": [
    "def load_mean_tract_graph(path):\n",
    "    '''Utility function to load and average tractography graphs'''\n",
    "    tract_mats = []\n",
    "    for i in range(1,6):\n",
    "        mat = load_connectivity_matrix(path + f'_n{i}.csv').values\n",
    "        tract_mats.append(mat)\n",
    "    tract = np.mean(tract_mats,0)\n",
    "    return tract\n",
    "\n",
    "tracer = load_connectivity_matrix('../data/tracer.csv').values\n",
    "dense_tract = load_mean_tract_graph('../data/tract_dense')\n",
    "endpoint_tract = load_mean_tract_graph('../data/tract_endpoint')"
   ]
  },
  {
   "cell_type": "markdown",
   "metadata": {},
   "source": [
    "In order to visualize our networks in physical coordinates, we need the locations of the nodes. These were calculated as the center of mass of each node mask in the Allen CCF v3 reference space and are available in the data folder:"
   ]
  },
  {
   "cell_type": "code",
   "execution_count": 3,
   "metadata": {},
   "outputs": [
    {
     "data": {
      "text/html": [
       "<div>\n",
       "<style scoped>\n",
       "    .dataframe tbody tr th:only-of-type {\n",
       "        vertical-align: middle;\n",
       "    }\n",
       "\n",
       "    .dataframe tbody tr th {\n",
       "        vertical-align: top;\n",
       "    }\n",
       "\n",
       "    .dataframe thead th {\n",
       "        text-align: right;\n",
       "    }\n",
       "</style>\n",
       "<table border=\"1\" class=\"dataframe\">\n",
       "  <thead>\n",
       "    <tr style=\"text-align: right;\">\n",
       "      <th></th>\n",
       "      <th>Allen ID</th>\n",
       "      <th>Hemisphere</th>\n",
       "      <th>x</th>\n",
       "      <th>y</th>\n",
       "      <th>z</th>\n",
       "    </tr>\n",
       "  </thead>\n",
       "  <tbody>\n",
       "    <tr>\n",
       "      <th>0</th>\n",
       "      <td>184</td>\n",
       "      <td>ipsilateral</td>\n",
       "      <td>68.343685</td>\n",
       "      <td>108.254658</td>\n",
       "      <td>51.219462</td>\n",
       "    </tr>\n",
       "    <tr>\n",
       "      <th>1</th>\n",
       "      <td>985</td>\n",
       "      <td>ipsilateral</td>\n",
       "      <td>78.590315</td>\n",
       "      <td>88.033051</td>\n",
       "      <td>55.376458</td>\n",
       "    </tr>\n",
       "    <tr>\n",
       "      <th>2</th>\n",
       "      <td>993</td>\n",
       "      <td>ipsilateral</td>\n",
       "      <td>70.259474</td>\n",
       "      <td>94.935666</td>\n",
       "      <td>57.910758</td>\n",
       "    </tr>\n",
       "    <tr>\n",
       "      <th>3</th>\n",
       "      <td>353</td>\n",
       "      <td>ipsilateral</td>\n",
       "      <td>92.878307</td>\n",
       "      <td>74.274471</td>\n",
       "      <td>54.414683</td>\n",
       "    </tr>\n",
       "    <tr>\n",
       "      <th>4</th>\n",
       "      <td>329</td>\n",
       "      <td>ipsilateral</td>\n",
       "      <td>90.150127</td>\n",
       "      <td>63.610051</td>\n",
       "      <td>61.484733</td>\n",
       "    </tr>\n",
       "    <tr>\n",
       "      <th>...</th>\n",
       "      <td>...</td>\n",
       "      <td>...</td>\n",
       "      <td>...</td>\n",
       "      <td>...</td>\n",
       "      <td>...</td>\n",
       "    </tr>\n",
       "    <tr>\n",
       "      <th>567</th>\n",
       "      <td>1041</td>\n",
       "      <td>contralateral</td>\n",
       "      <td>20.016731</td>\n",
       "      <td>19.540606</td>\n",
       "      <td>25.712443</td>\n",
       "    </tr>\n",
       "    <tr>\n",
       "      <th>568</th>\n",
       "      <td>1049</td>\n",
       "      <td>contralateral</td>\n",
       "      <td>25.500000</td>\n",
       "      <td>25.689970</td>\n",
       "      <td>26.768997</td>\n",
       "    </tr>\n",
       "    <tr>\n",
       "      <th>569</th>\n",
       "      <td>989</td>\n",
       "      <td>contralateral</td>\n",
       "      <td>47.453815</td>\n",
       "      <td>13.767068</td>\n",
       "      <td>42.108434</td>\n",
       "    </tr>\n",
       "    <tr>\n",
       "      <th>570</th>\n",
       "      <td>91</td>\n",
       "      <td>contralateral</td>\n",
       "      <td>38.484634</td>\n",
       "      <td>15.725768</td>\n",
       "      <td>39.747045</td>\n",
       "    </tr>\n",
       "    <tr>\n",
       "      <th>571</th>\n",
       "      <td>846</td>\n",
       "      <td>contralateral</td>\n",
       "      <td>31.820359</td>\n",
       "      <td>19.155689</td>\n",
       "      <td>36.479042</td>\n",
       "    </tr>\n",
       "  </tbody>\n",
       "</table>\n",
       "<p>572 rows × 5 columns</p>\n",
       "</div>"
      ],
      "text/plain": [
       "     Allen ID     Hemisphere          x           y          z\n",
       "0         184    ipsilateral  68.343685  108.254658  51.219462\n",
       "1         985    ipsilateral  78.590315   88.033051  55.376458\n",
       "2         993    ipsilateral  70.259474   94.935666  57.910758\n",
       "3         353    ipsilateral  92.878307   74.274471  54.414683\n",
       "4         329    ipsilateral  90.150127   63.610051  61.484733\n",
       "..        ...            ...        ...         ...        ...\n",
       "567      1041  contralateral  20.016731   19.540606  25.712443\n",
       "568      1049  contralateral  25.500000   25.689970  26.768997\n",
       "569       989  contralateral  47.453815   13.767068  42.108434\n",
       "570        91  contralateral  38.484634   15.725768  39.747045\n",
       "571       846  contralateral  31.820359   19.155689  36.479042\n",
       "\n",
       "[572 rows x 5 columns]"
      ]
     },
     "execution_count": 3,
     "metadata": {},
     "output_type": "execute_result"
    }
   ],
   "source": [
    "position_df = pd.read_csv('../data/node_positions.csv')\n",
    "node_positions_array = position_df.loc[:,'x':'z'].values\n",
    "position_df"
   ]
  },
  {
   "cell_type": "markdown",
   "metadata": {},
   "source": [
    "# Network diagrams\n",
    "\n",
    "the `vis_strongest_nodes` function from the `vis` module in `braingraphgeo` generates network diagrams with the following features:\n",
    "\n",
    "1. Nodes are represented as spheres with color corresponding to their strength\n",
    "2. \"Hub nodes\" are manually set with the `n_nodes` argument \n",
    "3. Hub node spheres have twice the radius of non-hub nodes\n",
    "4. Connections between hub nodes are colored teal\n",
    "\n",
    "The function uses the `fury` package which is a wrapper for `vtk`. The graphs won't render in Jupyter directly, so it saves three views to the `out_path`, which I can load into Jupyter with Markdown\n",
    "\n",
    "Let's look at the network diagram for the top 85 nodes of the tracer graph:"
   ]
  },
  {
   "cell_type": "code",
   "execution_count": 4,
   "metadata": {},
   "outputs": [],
   "source": [
    "from braingraphgeo.vis import vis_strongest_nodes\n",
    "\n",
    "n_nodes=85\n",
    "out_path='imgs/tracer_empirical_'\n",
    "vis_strongest_nodes(positions=node_positions_array, \n",
    "                    edges=tracer, \n",
    "                    out_path=out_path,\n",
    "                    n_nodes=85)"
   ]
  },
  {
   "cell_type": "markdown",
   "metadata": {},
   "source": [
    "### Tracer empirical\n",
    "\n",
    "| Coronal | Sagittal | Axial |\n",
    "| :- | -: | :-: |\n",
    "| ![](imgs/tracer_empirical_cor.png) | ![](imgs/tracer_empirical_sag.png) | ![](imgs/tracer_empirical_ax.png) "
   ]
  },
  {
   "cell_type": "markdown",
   "metadata": {},
   "source": [
    "# image/\n",
    "<img src='./Image/tracer_empirical_cor.png'/>\n",
    "\n",
    "# ./ (same folder)\n",
    "<img src='./tracer_empirical_cor.png'/>\n",
    "\n",
    "# blank (same folder)\n",
    "<img src='tracer_empirical_cor.png'/>"
   ]
  },
  {
   "cell_type": "markdown",
   "metadata": {},
   "source": [
    "# HTML table\n",
    "<table style=\"width:100%\">\n",
    "  <tr>\n",
    "    <td>Coronal</td>\n",
    "    <td>Sagittal</td> \n",
    "    <td>Axial</td>\n",
    "  </tr>\n",
    "  <tr>\n",
    "    <th> <img src=\"imgs/tracer_empirical_cor.png\"> </th>\n",
    "    <th><img src=\"imgs/tracer_empirical_sag.png\"></th> \n",
    "    <th><img src=\"imgs/tracer_empirical_ax.png\"></th>\n",
    "  </tr>\n",
    "</table>"
   ]
  },
  {
   "cell_type": "code",
   "execution_count": null,
   "metadata": {},
   "outputs": [],
   "source": []
  },
  {
   "cell_type": "code",
   "execution_count": null,
   "metadata": {},
   "outputs": [],
   "source": []
  },
  {
   "cell_type": "code",
   "execution_count": null,
   "metadata": {},
   "outputs": [],
   "source": []
  },
  {
   "cell_type": "code",
   "execution_count": null,
   "metadata": {},
   "outputs": [],
   "source": []
  },
  {
   "cell_type": "markdown",
   "metadata": {},
   "source": [
    "Now let's use the tracer graph to construct a geometric surrogate and look at its hub structure:"
   ]
  },
  {
   "cell_type": "code",
   "execution_count": 5,
   "metadata": {},
   "outputs": [],
   "source": [
    "from braingraphgeo.surrogates import geomsurr\n",
    "\n",
    "distance = load_connectivity_matrix('../data/fiber_distances.csv').values\n",
    "tracer_geo = geomsurr(tracer, distance)\n",
    "out_path='imgs/tracer_geo_'\n",
    "vis_strongest_nodes(positions=node_positions_array, \n",
    "                    edges=tracer_geo, \n",
    "                    out_path=out_path,\n",
    "                    n_nodes=85)"
   ]
  },
  {
   "cell_type": "markdown",
   "metadata": {},
   "source": [
    "### Tracer empirical\n",
    "\n",
    "| Coronal | Sagittal | Axial |\n",
    "| :- | -: | :-: |\n",
    "| ![](imgs/tracer_geo_cor.png) | ![](imgs/tracer_geo_sag.png) | ![](imgs/tracer_geo_ax.png) "
   ]
  },
  {
   "cell_type": "markdown",
   "metadata": {},
   "source": [
    "Accordingly, we see that tracer networks place their hub nodes much further out into the periphery of the brain than would be predicted by geometric effects alone. \n",
    "\n",
    "Now let's look at the same comparison with the tractography networks:"
   ]
  },
  {
   "cell_type": "code",
   "execution_count": 6,
   "metadata": {},
   "outputs": [],
   "source": [
    "# Dense tract empirical\n",
    "out_path = 'imgs/dense_tract_empirical_'\n",
    "vis_strongest_nodes(positions=node_positions_array, \n",
    "                    edges=dense_tract, \n",
    "                    out_path=out_path,\n",
    "                    n_nodes=85)\n",
    "\n",
    "# Dense tract geometric\n",
    "dense_geo = geomsurr(dense_tract, distance)\n",
    "out_path = 'imgs/dense_tract_geo_'\n",
    "vis_strongest_nodes(positions=node_positions_array, \n",
    "                    edges=dense_geo, \n",
    "                    out_path=out_path,\n",
    "                    n_nodes=85)\n",
    "\n",
    "# Endpoint tract empirical\n",
    "out_path = 'imgs/endpoint_tract_empirical_'\n",
    "vis_strongest_nodes(positions=node_positions_array, \n",
    "                    edges=endpoint_tract, \n",
    "                    out_path=out_path,\n",
    "                    n_nodes=85)\n",
    "\n",
    "# Dense tract geometric\n",
    "endpoint_geo = geomsurr(endpoint_tract, distance)\n",
    "out_path = 'imgs/endpoint_tract_geo_'\n",
    "vis_strongest_nodes(positions=node_positions_array, \n",
    "                    edges=endpoint_geo, \n",
    "                    out_path=out_path,\n",
    "                    n_nodes=85)"
   ]
  },
  {
   "cell_type": "markdown",
   "metadata": {},
   "source": [
    "### Dense tract empirical\n",
    "\n",
    "| Coronal | Sagittal | Axial |\n",
    "| :- | -: | :-: |\n",
    "| ![](imgs/dense_tract_empirical_cor.png) | ![](imgs/dense_tract_empirical_sag.png) | ![](imgs/dense_tract_empirical_ax.png) \n",
    "\n",
    "### Dense tract geometric\n",
    "\n",
    "| Coronal | Sagittal | Axial |\n",
    "| :- | -: | :-: |\n",
    "| ![](imgs/dense_tract_geo_cor.png) | ![](imgs/dense_tract_geo_sag.png) | ![](imgs/dense_tract_geo_ax.png) \n",
    "\n",
    "### Endpoint tract empirical\n",
    "\n",
    "| Coronal | Sagittal | Axial |\n",
    "| :- | -: | :-: |\n",
    "| ![](imgs/endpoint_tract_empirical_cor.png) | ![](imgs/endpoint_tract_empirical_sag.png) | ![](imgs/endpoint_tract_empirical_ax.png) \n",
    "\n",
    "### Endpoint tract geometric\n",
    "\n",
    "| Coronal | Sagittal | Axial |\n",
    "| :- | -: | :-: |\n",
    "| ![](imgs/endpoint_tract_geo_cor.png) | ![](imgs/endpoint_tract_geo_sag.png) | ![](imgs/endpoint_tract_geo_ax.png) "
   ]
  },
  {
   "cell_type": "markdown",
   "metadata": {},
   "source": [
    "# Results\n",
    "\n",
    "With these diagrams, we see that\n",
    "\n",
    "1. Both tractography methods put their hub nodes closer to the center of the brain than predicted by the tracer graph\n",
    "2. Differences between empirical and geometric hub structures are MUCH smaller for tractography than tracers, indicating that geometry plays a larger role in determining the hub structure of tractography graphs than tracer graphs"
   ]
  }
 ],
 "metadata": {
  "kernelspec": {
   "display_name": "Python [conda env:braingraphgeo]",
   "language": "python",
   "name": "conda-env-braingraphgeo-py"
  },
  "language_info": {
   "codemirror_mode": {
    "name": "ipython",
    "version": 3
   },
   "file_extension": ".py",
   "mimetype": "text/x-python",
   "name": "python",
   "nbconvert_exporter": "python",
   "pygments_lexer": "ipython3",
   "version": "3.9.6"
  }
 },
 "nbformat": 4,
 "nbformat_minor": 2
}
